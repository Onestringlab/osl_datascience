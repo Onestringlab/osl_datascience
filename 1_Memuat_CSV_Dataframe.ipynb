{
  "nbformat": 4,
  "nbformat_minor": 0,
  "metadata": {
    "colab": {
      "provenance": [],
      "authorship_tag": "ABX9TyOm070pqgbqNeVH+A5cJ5dP",
      "include_colab_link": true
    },
    "kernelspec": {
      "name": "python3",
      "display_name": "Python 3"
    },
    "language_info": {
      "name": "python"
    }
  },
  "cells": [
    {
      "cell_type": "markdown",
      "metadata": {
        "id": "view-in-github",
        "colab_type": "text"
      },
      "source": [
        "<a href=\"https://colab.research.google.com/github/Onestringlab/osl_datascience/blob/main/1_Memuat_CSV_Dataframe.ipynb\" target=\"_parent\"><img src=\"https://colab.research.google.com/assets/colab-badge.svg\" alt=\"Open In Colab\"/></a>"
      ]
    },
    {
      "cell_type": "markdown",
      "metadata": {
        "id": "rkRPxN5HIqDr"
      },
      "source": [
        "**Memuat data ke Pandas**"
      ]
    },
    {
      "cell_type": "code",
      "metadata": {
        "id": "OKBznC7GjAso"
      },
      "source": [
        "import pandas as pd\n",
        "\n",
        "df = pd.read_csv('https://raw.githubusercontent.com/Onestringlab/notebook/main/pokemon_data.csv')"
      ],
      "execution_count": 1,
      "outputs": []
    },
    {
      "cell_type": "markdown",
      "metadata": {
        "id": "dYW5oKqaJVy0"
      },
      "source": [
        "**Menampilkan 5 data pertama**"
      ]
    },
    {
      "cell_type": "code",
      "metadata": {
        "colab": {
          "base_uri": "https://localhost:8080/"
        },
        "id": "RgK6eH1YJU6D",
        "outputId": "754c789b-ee0b-42b4-a2cd-f234d7fedd1c"
      },
      "source": [
        "print(df.head(5))"
      ],
      "execution_count": 2,
      "outputs": [
        {
          "output_type": "stream",
          "name": "stdout",
          "text": [
            "   #                   Name Type 1  Type 2  HP  Attack  Defense  Sp. Atk  \\\n",
            "0  1              Bulbasaur  Grass  Poison  45      49       49       65   \n",
            "1  2                Ivysaur  Grass  Poison  60      62       63       80   \n",
            "2  3               Venusaur  Grass  Poison  80      82       83      100   \n",
            "3  3  VenusaurMega Venusaur  Grass  Poison  80     100      123      122   \n",
            "4  4             Charmander   Fire     NaN  39      52       43       60   \n",
            "\n",
            "   Sp. Def  Speed  Generation  Legendary  \n",
            "0       65     45           1      False  \n",
            "1       80     60           1      False  \n",
            "2      100     80           1      False  \n",
            "3      120     80           1      False  \n",
            "4       50     65           1      False  \n"
          ]
        }
      ]
    },
    {
      "cell_type": "markdown",
      "metadata": {
        "id": "sa2jN1ZQJxjk"
      },
      "source": [
        "**Menampilkan 10 data terakhir**"
      ]
    },
    {
      "cell_type": "code",
      "metadata": {
        "colab": {
          "base_uri": "https://localhost:8080/"
        },
        "id": "IRBDDIsoJ3B8",
        "outputId": "e27ce956-458f-452c-f6c9-15baedebb010"
      },
      "source": [
        "print(df.tail(5))"
      ],
      "execution_count": 3,
      "outputs": [
        {
          "output_type": "stream",
          "name": "stdout",
          "text": [
            "       #                 Name   Type 1 Type 2  HP  Attack  Defense  Sp. Atk  \\\n",
            "795  719              Diancie     Rock  Fairy  50     100      150      100   \n",
            "796  719  DiancieMega Diancie     Rock  Fairy  50     160      110      160   \n",
            "797  720  HoopaHoopa Confined  Psychic  Ghost  80     110       60      150   \n",
            "798  720   HoopaHoopa Unbound  Psychic   Dark  80     160       60      170   \n",
            "799  721            Volcanion     Fire  Water  80     110      120      130   \n",
            "\n",
            "     Sp. Def  Speed  Generation  Legendary  \n",
            "795      150     50           6       True  \n",
            "796      110    110           6       True  \n",
            "797      130     70           6       True  \n",
            "798      130     80           6       True  \n",
            "799       90     70           6       True  \n"
          ]
        }
      ]
    },
    {
      "cell_type": "markdown",
      "metadata": {
        "id": "KLunUvnWKLrt"
      },
      "source": [
        "**Menampilkan nama judul kolom**"
      ]
    },
    {
      "cell_type": "code",
      "metadata": {
        "colab": {
          "base_uri": "https://localhost:8080/"
        },
        "id": "LmiqvmhFKUaQ",
        "outputId": "9e9c4cbd-1144-408f-c6a7-fe810dc2a772"
      },
      "source": [
        "print(df.columns)"
      ],
      "execution_count": 4,
      "outputs": [
        {
          "output_type": "stream",
          "name": "stdout",
          "text": [
            "Index(['#', 'Name', 'Type 1', 'Type 2', 'HP', 'Attack', 'Defense', 'Sp. Atk',\n",
            "       'Sp. Def', 'Speed', 'Generation', 'Legendary'],\n",
            "      dtype='object')\n"
          ]
        }
      ]
    },
    {
      "cell_type": "markdown",
      "metadata": {
        "id": "J09qYEJkKeRk"
      },
      "source": [
        "**Menampilkan data berdasarkan kolom**"
      ]
    },
    {
      "cell_type": "code",
      "metadata": {
        "colab": {
          "base_uri": "https://localhost:8080/"
        },
        "id": "M9MOVU8gKtzH",
        "outputId": "13f25ce2-2060-430a-c3be-6b934783e5cc"
      },
      "source": [
        "print(df[['Name','Type 1', 'HP']])"
      ],
      "execution_count": 5,
      "outputs": [
        {
          "output_type": "stream",
          "name": "stdout",
          "text": [
            "                      Name   Type 1  HP\n",
            "0                Bulbasaur    Grass  45\n",
            "1                  Ivysaur    Grass  60\n",
            "2                 Venusaur    Grass  80\n",
            "3    VenusaurMega Venusaur    Grass  80\n",
            "4               Charmander     Fire  39\n",
            "..                     ...      ...  ..\n",
            "795                Diancie     Rock  50\n",
            "796    DiancieMega Diancie     Rock  50\n",
            "797    HoopaHoopa Confined  Psychic  80\n",
            "798     HoopaHoopa Unbound  Psychic  80\n",
            "799              Volcanion     Fire  80\n",
            "\n",
            "[800 rows x 3 columns]\n"
          ]
        }
      ]
    },
    {
      "cell_type": "markdown",
      "metadata": {
        "id": "EGN6enmtKyLJ"
      },
      "source": [
        "**Menampilkan data berdasarkan baris**"
      ]
    },
    {
      "cell_type": "code",
      "metadata": {
        "colab": {
          "base_uri": "https://localhost:8080/"
        },
        "id": "6NEjzcExLJAB",
        "outputId": "738810a2-0eb1-4412-a6c1-12e4a79c4578"
      },
      "source": [
        "print(df.iloc[0:4])"
      ],
      "execution_count": 6,
      "outputs": [
        {
          "output_type": "stream",
          "name": "stdout",
          "text": [
            "   #                   Name Type 1  Type 2  HP  Attack  Defense  Sp. Atk  \\\n",
            "0  1              Bulbasaur  Grass  Poison  45      49       49       65   \n",
            "1  2                Ivysaur  Grass  Poison  60      62       63       80   \n",
            "2  3               Venusaur  Grass  Poison  80      82       83      100   \n",
            "3  3  VenusaurMega Venusaur  Grass  Poison  80     100      123      122   \n",
            "\n",
            "   Sp. Def  Speed  Generation  Legendary  \n",
            "0       65     45           1      False  \n",
            "1       80     60           1      False  \n",
            "2      100     80           1      False  \n",
            "3      120     80           1      False  \n"
          ]
        }
      ]
    },
    {
      "cell_type": "code",
      "metadata": {
        "colab": {
          "base_uri": "https://localhost:8080/"
        },
        "id": "BHexYm17LvUs",
        "outputId": "f36815d0-d265-4c38-f3fd-02e5c103e02c"
      },
      "source": [
        "for index, row in df.iterrows():\n",
        "  print(index,row['Name'])\n",
        "  if index == 50:\n",
        "    break"
      ],
      "execution_count": 7,
      "outputs": [
        {
          "output_type": "stream",
          "name": "stdout",
          "text": [
            "0 Bulbasaur\n",
            "1 Ivysaur\n",
            "2 Venusaur\n",
            "3 VenusaurMega Venusaur\n",
            "4 Charmander\n",
            "5 Charmeleon\n",
            "6 Charizard\n",
            "7 CharizardMega Charizard X\n",
            "8 CharizardMega Charizard Y\n",
            "9 Squirtle\n",
            "10 Wartortle\n",
            "11 Blastoise\n",
            "12 BlastoiseMega Blastoise\n",
            "13 Caterpie\n",
            "14 Metapod\n",
            "15 Butterfree\n",
            "16 Weedle\n",
            "17 Kakuna\n",
            "18 Beedrill\n",
            "19 BeedrillMega Beedrill\n",
            "20 Pidgey\n",
            "21 Pidgeotto\n",
            "22 Pidgeot\n",
            "23 PidgeotMega Pidgeot\n",
            "24 Rattata\n",
            "25 Raticate\n",
            "26 Spearow\n",
            "27 Fearow\n",
            "28 Ekans\n",
            "29 Arbok\n",
            "30 Pikachu\n",
            "31 Raichu\n",
            "32 Sandshrew\n",
            "33 Sandslash\n",
            "34 Nidoran (Female)\n",
            "35 Nidorina\n",
            "36 Nidoqueen\n",
            "37 Nidoran (Male)\n",
            "38 Nidorino\n",
            "39 Nidoking\n",
            "40 Clefairy\n",
            "41 Clefable\n",
            "42 Vulpix\n",
            "43 Ninetales\n",
            "44 Jigglypuff\n",
            "45 Wigglytuff\n",
            "46 Zubat\n",
            "47 Golbat\n",
            "48 Oddish\n",
            "49 Gloom\n",
            "50 Vileplume\n"
          ]
        }
      ]
    },
    {
      "cell_type": "code",
      "metadata": {
        "colab": {
          "base_uri": "https://localhost:8080/"
        },
        "id": "C06SWxbTMSXY",
        "outputId": "3efef331-bead-4d04-d71c-99ea06d55ff4"
      },
      "source": [
        "print(df.loc[df['Type 1'] == 'Fire'].head(10))"
      ],
      "execution_count": 8,
      "outputs": [
        {
          "output_type": "stream",
          "name": "stdout",
          "text": [
            "     #                       Name Type 1  Type 2  HP  Attack  Defense  \\\n",
            "4    4                 Charmander   Fire     NaN  39      52       43   \n",
            "5    5                 Charmeleon   Fire     NaN  58      64       58   \n",
            "6    6                  Charizard   Fire  Flying  78      84       78   \n",
            "7    6  CharizardMega Charizard X   Fire  Dragon  78     130      111   \n",
            "8    6  CharizardMega Charizard Y   Fire  Flying  78     104       78   \n",
            "42  37                     Vulpix   Fire     NaN  38      41       40   \n",
            "43  38                  Ninetales   Fire     NaN  73      76       75   \n",
            "63  58                  Growlithe   Fire     NaN  55      70       45   \n",
            "64  59                   Arcanine   Fire     NaN  90     110       80   \n",
            "83  77                     Ponyta   Fire     NaN  50      85       55   \n",
            "\n",
            "    Sp. Atk  Sp. Def  Speed  Generation  Legendary  \n",
            "4        60       50     65           1      False  \n",
            "5        80       65     80           1      False  \n",
            "6       109       85    100           1      False  \n",
            "7       130       85    100           1      False  \n",
            "8       159      115    100           1      False  \n",
            "42       50       65     65           1      False  \n",
            "43       81      100    100           1      False  \n",
            "63       70       50     60           1      False  \n",
            "64      100       80     95           1      False  \n",
            "83       65       65     90           1      False  \n"
          ]
        }
      ]
    }
  ]
}